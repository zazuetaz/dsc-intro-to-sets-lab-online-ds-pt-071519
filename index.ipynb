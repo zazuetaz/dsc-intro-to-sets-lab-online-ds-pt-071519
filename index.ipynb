{
 "cells": [
  {
   "cell_type": "markdown",
   "metadata": {},
   "source": [
    "# Introduction to Sets - Lab\n",
    "\n",
    "## Introduction\n",
    "\n",
    "Probability theory is all around. A common example is in the game of poker or related card games, where players try to calculate the probability of winning a round given the cards they have in their hands. Also in the business context probabilities play an important role. Operating in a volatile economy, companies need to take uncertainty into account and this is exactly where probability theory plays a role.\n",
    "\n",
    "As mentioned in the lesson before, a good understanding of probability starts with understanding of sets and set operations. That's exactly what you'll learn in this lab!\n",
    "\n",
    "## Objectives\n",
    "\n",
    "You will be able to:\n",
    "\n",
    "- Have a better sense of what sets, universal sets, and subsets are\n",
    "- Know how to perform common set operations in Python \n",
    "- Learn how to use Venn Diagrams to understand the relationships between sets\n",
    "\n",
    "\n",
    "## Exploring Set Operations Using a Venn Diagram\n",
    "\n",
    "Let's start with a pretty conceptual example. Let's consider the following sets:\n",
    "\n",
    "   - $\\Omega$ = positive integers between [1, 12]\n",
    "   - $A$= even numbers between [1, 10]\n",
    "   - $B = \\{3,8,11,12\\}$\n",
    "   - $C = \\{2,3,6,8,9,11\\}$\n",
    "    \n",
    "\n",
    "#### a. Illustrate all the sets in a Venn Diagram like the one below. The rectangular shape represents the universal set.\n",
    "\n",
    "<img src=\"./images/venn_diagr.png\" width=\"600\">\n"
   ]
  },
  {
   "cell_type": "markdown",
   "metadata": {},
   "source": [
    "#### b. Using your Venn Diagram, list the elements in each of the following sets:\n",
    "\n",
    "- $ A \\cap B$\n",
    "- $ A \\cup C$\n",
    "- $A^c$ \n",
    "- The absolute complement of B\n",
    "- $(A \\cup B)^c$\n",
    "- $B \\cap C'$\n",
    "- $A\\backslash B$\n",
    "- $C \\backslash (B \\backslash A)$ \n",
    "- $(C \\cap A) \\cup (C \\backslash B)$"
   ]
  },
  {
   "cell_type": "markdown",
   "metadata": {},
   "source": [
    "\n",
    "        \n",
    "        \n",
    "#### c. For the remainder of this exercise, let's  create sets A, B and C and universal set U in Python and test out the results you came up with. Sets are easy to create in Python. For a guide to the syntax, follow some of the documentation [here](https://www.w3schools.com/python/python_sets.asp)"
   ]
  },
  {
   "cell_type": "code",
   "execution_count": 1,
   "metadata": {},
   "outputs": [
    {
     "data": {
      "text/plain": [
       "\"Type A: <class 'set'>, A: {2, 4, 6, 8, 10}\""
      ]
     },
     "execution_count": 1,
     "metadata": {},
     "output_type": "execute_result"
    }
   ],
   "source": [
    "# Create set A\n",
    "A = set([2,4,6,8,10])\n",
    "'Type A: {}, A: {}'.format(type(A), A) # \"Type A: <class 'set'>, A: {2, 4, 6, 8, 10}\""
   ]
  },
  {
   "cell_type": "code",
   "execution_count": 2,
   "metadata": {},
   "outputs": [
    {
     "data": {
      "text/plain": [
       "\"Type B: <class 'set'>, B: {8, 3, 11, 12}\""
      ]
     },
     "execution_count": 2,
     "metadata": {},
     "output_type": "execute_result"
    }
   ],
   "source": [
    "# Create set B\n",
    "B = set([8,11,3,12])\n",
    "'Type B: {}, B: {}'.format(type(B), B) # \"Type B: <class 'set'>, B: {8, 11, 3, 12}\""
   ]
  },
  {
   "cell_type": "code",
   "execution_count": 3,
   "metadata": {},
   "outputs": [
    {
     "data": {
      "text/plain": [
       "\"Type C: <class 'set'>, C: {2, 3, 6, 8, 9, 11}\""
      ]
     },
     "execution_count": 3,
     "metadata": {},
     "output_type": "execute_result"
    }
   ],
   "source": [
    "# Create set C\n",
    "C = set([2,3,6,8,9,11])\n",
    "'Type C: {}, C: {}'.format(type(C), C) # \"Type C: <class 'set'>, C: {2, 3, 6, 8, 9, 11}\""
   ]
  },
  {
   "cell_type": "code",
   "execution_count": 4,
   "metadata": {},
   "outputs": [
    {
     "data": {
      "text/plain": [
       "\"Type U: <class 'set'>, U: {1, 2, 3, 4, 5, 6, 7, 8, 9, 10, 11, 12}\""
      ]
     },
     "execution_count": 4,
     "metadata": {},
     "output_type": "execute_result"
    }
   ],
   "source": [
    "# Create universal set U\n",
    "U = set(list(range(1,13)))\n",
    "'Type U: {}, U: {}'.format(type(U), U) # \"Type U: <class 'set'>, U: {1, 2, 3, 4, 5, 6, 7, 8, 9, 10, 11, 12}\""
   ]
  },
  {
   "cell_type": "markdown",
   "metadata": {},
   "source": [
    "Now, verify your answers in section 1 by using the correct methods in Python. To provide a little bit of help, you can find a table with common operations on sets below.\n",
    "\n",
    "| Method        |\tEquivalent |\tResult |\n",
    "| ------                    | ------       | ------    |\n",
    "| s.issubset(t)             |\ts <= t     | test whether every element in s is in t\n",
    "| s.issuperset(t)           |\ts >= t     | test whether every element in t is in s\n",
    "| s.union(t)                |\ts $\\mid$ t | new set with elements from both s and t\n",
    "| s.intersection(t)         |\ts & t      | new set with elements common to s and t\n",
    "| s.difference(t)           |\ts - t \t   | new set with elements in s but not in t\n",
    "| s.symmetric_difference(t) |\ts ^ t      | new set with elements in either s or t but not both"
   ]
  },
  {
   "cell_type": "markdown",
   "metadata": {},
   "source": [
    "#### 1. $ A \\cap B$"
   ]
  },
  {
   "cell_type": "code",
   "execution_count": 6,
   "metadata": {},
   "outputs": [
    {
     "data": {
      "text/plain": [
       "{8}"
      ]
     },
     "execution_count": 6,
     "metadata": {},
     "output_type": "execute_result"
    }
   ],
   "source": [
    "A_inters_B =  A.intersection(B)\n",
    "A_inters_B # {8}"
   ]
  },
  {
   "cell_type": "markdown",
   "metadata": {},
   "source": [
    "#### 2. $ A \\cup C $"
   ]
  },
  {
   "cell_type": "code",
   "execution_count": 7,
   "metadata": {},
   "outputs": [
    {
     "data": {
      "text/plain": [
       "{2, 3, 4, 6, 8, 9, 10, 11}"
      ]
     },
     "execution_count": 7,
     "metadata": {},
     "output_type": "execute_result"
    }
   ],
   "source": [
    "A_union_C = A.union(C)\n",
    "A_union_C # {2, 3, 4, 6, 8, 9, 10, 11}"
   ]
  },
  {
   "cell_type": "markdown",
   "metadata": {},
   "source": [
    "#### 3.  $A^c$ (you'll have to be a little creative here!)"
   ]
  },
  {
   "cell_type": "code",
   "execution_count": 14,
   "metadata": {},
   "outputs": [
    {
     "data": {
      "text/plain": [
       "{1, 3, 5, 7, 9, 11, 12}"
      ]
     },
     "execution_count": 14,
     "metadata": {},
     "output_type": "execute_result"
    }
   ],
   "source": [
    "A_comp = A.symmetric_difference(U)\n",
    "A_comp # {1, 3, 5, 7, 9, 11, 12}"
   ]
  },
  {
   "cell_type": "markdown",
   "metadata": {},
   "source": [
    "#### 4.  $(A \\cup B)^c $"
   ]
  },
  {
   "cell_type": "code",
   "execution_count": 15,
   "metadata": {},
   "outputs": [
    {
     "data": {
      "text/plain": [
       "{1, 5, 7, 9}"
      ]
     },
     "execution_count": 15,
     "metadata": {},
     "output_type": "execute_result"
    }
   ],
   "source": [
    "A_union_B_comp = (A.union(B)).symmetric_difference(U)\n",
    "A_union_B_comp # {1, 5, 7, 9}"
   ]
  },
  {
   "cell_type": "markdown",
   "metadata": {},
   "source": [
    "#### 5. $B \\cap C' $"
   ]
  },
  {
   "cell_type": "code",
   "execution_count": 16,
   "metadata": {},
   "outputs": [
    {
     "data": {
      "text/plain": [
       "{12}"
      ]
     },
     "execution_count": 16,
     "metadata": {},
     "output_type": "execute_result"
    }
   ],
   "source": [
    "B_inters_C_comp = B.intersection(C.symmetric_difference(U))\n",
    "B_inters_C_comp # {12}"
   ]
  },
  {
   "cell_type": "markdown",
   "metadata": {},
   "source": [
    "#### 6. $A\\backslash B$"
   ]
  },
  {
   "cell_type": "code",
   "execution_count": 17,
   "metadata": {},
   "outputs": [
    {
     "data": {
      "text/plain": [
       "{2, 4, 6, 10}"
      ]
     },
     "execution_count": 17,
     "metadata": {},
     "output_type": "execute_result"
    }
   ],
   "source": [
    "compl_of_B = A.difference(B)\n",
    "compl_of_B # {2, 4, 6, 10}"
   ]
  },
  {
   "cell_type": "markdown",
   "metadata": {},
   "source": [
    "#### 7. $C \\backslash (B \\backslash A) $"
   ]
  },
  {
   "cell_type": "code",
   "execution_count": 18,
   "metadata": {},
   "outputs": [
    {
     "data": {
      "text/plain": [
       "{2, 6, 8, 9}"
      ]
     },
     "execution_count": 18,
     "metadata": {},
     "output_type": "execute_result"
    }
   ],
   "source": [
    "C_compl_B_compl_A = C.difference(B.difference(A))\n",
    "C_compl_B_compl_A # {2, 6, 8, 9}"
   ]
  },
  {
   "cell_type": "markdown",
   "metadata": {},
   "source": [
    "#### 8.  $(C \\cap A) \\cup (C \\backslash B)$"
   ]
  },
  {
   "cell_type": "code",
   "execution_count": 19,
   "metadata": {},
   "outputs": [
    {
     "data": {
      "text/plain": [
       "{2, 6, 8, 9}"
      ]
     },
     "execution_count": 19,
     "metadata": {},
     "output_type": "execute_result"
    }
   ],
   "source": [
    "C_inters_A_union_C_min_B= C.intersection(A).union(C.difference(B))\n",
    "C_inters_A_union_C_min_B # {2, 6, 8, 9}"
   ]
  },
  {
   "cell_type": "markdown",
   "metadata": {},
   "source": [
    "## The Inclusion Exclusion Principle"
   ]
  },
  {
   "cell_type": "markdown",
   "metadata": {},
   "source": [
    "Use A, B and C from exercise one to verify the inclusion exclusion principle in Python. \n",
    "You can use the sets A, B and C as used in the previous exercise. \n",
    "\n",
    "Recall from the previous lessen that:\n",
    "\n",
    "$$\\mid A \\cup B\\cup C\\mid = \\mid A \\mid + \\mid B \\mid + \\mid C \\mid - \\mid A \\cap B \\mid  -\\mid A \\cap C \\mid - \\mid B \\cap C \\mid  + \\mid A \\cap B \\cap C \\mid $$\n",
    "\n",
    "Combining these main commands:\n",
    "\n",
    "| Method        |\tEquivalent |\tResult |\n",
    "| ------                    | ------       | ------    |\n",
    "| a.union(b)                |\tA $\\mid$ B | new set with elements from both a and b\n",
    "| a.intersection(b)         |\tA & B      | new set with elements common to a and b\n",
    "\n",
    "along with the `len(x)` function to get to the cardinality of a given x (\"|x|\").\n",
    "\n",
    "What you'll do is translate the left hand side of the equation for the inclusion principle in the object `left_hand_eq`, and the right hand side in the object `right_hand_eq` and see if the results are the same.\n"
   ]
  },
  {
   "cell_type": "code",
   "execution_count": 20,
   "metadata": {},
   "outputs": [
    {
     "name": "stdout",
     "output_type": "stream",
     "text": [
      "9\n"
     ]
    }
   ],
   "source": [
    "left_hand_eq = len(A.union(B).union(C))\n",
    "print(left_hand_eq)  # 9 elements in the set"
   ]
  },
  {
   "cell_type": "code",
   "execution_count": 21,
   "metadata": {},
   "outputs": [
    {
     "name": "stdout",
     "output_type": "stream",
     "text": [
      "9\n"
     ]
    }
   ],
   "source": [
    "right_hand_eq = len(A) + len(B) + len(C) - len(A.intersection(B)) - len(A.intersection(C)) - len(B.intersection(C)) + len(A.intersection(B).intersection(C))\n",
    "print(right_hand_eq) # 9 elements in the set"
   ]
  },
  {
   "cell_type": "code",
   "execution_count": 23,
   "metadata": {},
   "outputs": [
    {
     "data": {
      "text/plain": [
       "True"
      ]
     },
     "execution_count": 23,
     "metadata": {},
     "output_type": "execute_result"
    }
   ],
   "source": [
    "left_hand_eq == right_hand_eq # Use a comparison operator to compare `left_hand_eq` and `right_hand_eq`. Needs to say \"True\"."
   ]
  },
  {
   "cell_type": "markdown",
   "metadata": {},
   "source": [
    "## Set Operations in Python\n",
    "\n",
    "Mary is preparing for a road trip from her hometown, Boston, to Chicago. She has quite a few pets, yet luckily, so do her friends. They try to make sure that they take care of each other's pets while someone is away on a trip. A month ago, each respective person's pet collection was given by the following three sets:"
   ]
  },
  {
   "cell_type": "code",
   "execution_count": 24,
   "metadata": {},
   "outputs": [],
   "source": [
    "Nina = set([\"Cat\",\"Dog\",\"Rabbit\",\"Donkey\",\"Parrot\", \"Goldfish\"])\n",
    "Mary = set([\"Dog\",\"Chinchilla\",\"Horse\", \"Chicken\"])\n",
    "Eve = set([\"Rabbit\", \"Turtle\", \"Goldfish\"])"
   ]
  },
  {
   "cell_type": "markdown",
   "metadata": {},
   "source": [
    "In this exercise, you'll be able to use the following operations:\n",
    "\n",
    "|Operation                          |\tEquivalent |\tResult|\n",
    "| ------                            | ------       | ------   |\n",
    "|s.update(t)                        | \t$s \\mid t$ \t   |return set s with elements added from t|\n",
    "|s.intersection_update(t)           | \ts &= t     |\treturn set s keeping only elements also found in t|\n",
    "|s.difference_update(t)             |\ts -= t \t   |return set s after removing elements found in t|\n",
    "|s.symmetric_difference_update(t)   |\ts ^= t \t   |return set s with elements from s or t but not both|\n",
    "|s.add(x)                           |\t           |\tadd element x to set s|\n",
    "|s.remove(x)                        |\t           |\tremove x from set s|\n",
    "|s.discard(x)                       |\t           |\tremoves x from set s if present|\n",
    "|s.pop()                            | \t           |\tremove and return an arbitrary element from s|\n",
    "|s.clear()            \t            |  \t           |remove all elements from set s|\n",
    "\n",
    "Sadly, Eve's turtle passed away last week. Let's update her pet list accordingly."
   ]
  },
  {
   "cell_type": "code",
   "execution_count": 25,
   "metadata": {},
   "outputs": [
    {
     "data": {
      "text/plain": [
       "{'Goldfish', 'Rabbit'}"
      ]
     },
     "execution_count": 25,
     "metadata": {},
     "output_type": "execute_result"
    }
   ],
   "source": [
    "Eve.remove('Turtle')\n",
    "Eve # should be {'Rabbit', 'Goldfish'}"
   ]
  },
  {
   "cell_type": "markdown",
   "metadata": {},
   "source": [
    "This time around, Nina promised to take care of Mary's pets while she's away. But she also wants to make sure her pets are well taken care of. As Nina is already spending a considerable amount of time taking care of her own pets, adding a few more won't make that much of a difference. Nina does want to update her list while Marie is away. "
   ]
  },
  {
   "cell_type": "code",
   "execution_count": 26,
   "metadata": {},
   "outputs": [
    {
     "data": {
      "text/plain": [
       "{'Cat',\n",
       " 'Chicken',\n",
       " 'Chinchilla',\n",
       " 'Dog',\n",
       " 'Donkey',\n",
       " 'Goldfish',\n",
       " 'Horse',\n",
       " 'Parrot',\n",
       " 'Rabbit'}"
      ]
     },
     "execution_count": 26,
     "metadata": {},
     "output_type": "execute_result"
    }
   ],
   "source": [
    "Nina.update(Mary)\n",
    "Nina # {'Chicken', 'Horse', 'Chinchilla', 'Parrot', 'Rabbit', 'Donkey', 'Dog', 'Cat', 'Goldfish'}"
   ]
  },
  {
   "cell_type": "markdown",
   "metadata": {},
   "source": [
    "Mary, on the other hand, wants to clear her list altogether while away:"
   ]
  },
  {
   "cell_type": "code",
   "execution_count": 27,
   "metadata": {},
   "outputs": [
    {
     "data": {
      "text/plain": [
       "set()"
      ]
     },
     "execution_count": 27,
     "metadata": {},
     "output_type": "execute_result"
    }
   ],
   "source": [
    "Mary.clear()\n",
    "Mary  # set()"
   ]
  },
  {
   "cell_type": "markdown",
   "metadata": {},
   "source": [
    "Look at how many species Nina is taking care of right now."
   ]
  },
  {
   "cell_type": "code",
   "execution_count": 30,
   "metadata": {},
   "outputs": [
    {
     "data": {
      "text/plain": [
       "9"
      ]
     },
     "execution_count": 30,
     "metadata": {},
     "output_type": "execute_result"
    }
   ],
   "source": [
    "n_species_Nina = len(Nina)\n",
    "n_species_Nina # 9"
   ]
  },
  {
   "cell_type": "markdown",
   "metadata": {},
   "source": [
    "Taking care of this many pets is weighing heavily on Nina. She remembered Eve had a smaller collection of pets lately, and that's why she asks Eve to take care of the common species. This way, the extra pets are not a huge effort on Eve's behalf. Let's update Nina's pet collection."
   ]
  },
  {
   "cell_type": "code",
   "execution_count": 35,
   "metadata": {},
   "outputs": [
    {
     "data": {
      "text/plain": [
       "7"
      ]
     },
     "execution_count": 35,
     "metadata": {},
     "output_type": "execute_result"
    }
   ],
   "source": [
    "Nina.difference_update(Eve)\n",
    "len(Nina) # 7"
   ]
  },
  {
   "cell_type": "markdown",
   "metadata": {},
   "source": [
    "Taking care of 7 species is something Nina feels comfortable doing!"
   ]
  },
  {
   "cell_type": "markdown",
   "metadata": {},
   "source": [
    "## Writing Down the Elements in a Set\n",
    "\n",
    "\n",
    "Mary dropped off her Pet's at Nina's house and finally made her way to the highway. Awesome, her vacation has begun!\n",
    "She's approaching an exit. At the end of this particular highway exit, cars can either turn left (L), go straight (S) or turn right (R). It's pretty busy and there are two cars driving close to her. What you'll do now is create several sets. You won't be using Python here, it's sufficient to write the sets down on paper. A good notion of sets and subsets will help you calculate probabilities in the next lab!\n",
    "\n",
    "Note: each set of action is what _all three cars_ are doing at any given time\n",
    "\n",
    "a. Create a set $A$ of all possible outcomes assuming that all three cars drive in the same direction.\n",
    "           \n",
    "b. Create a set $B$ of all possible outcomes assuming that all three cars drive in a different direction.\n",
    "             \n",
    "c. Create a set $C$ of all possible outcomes assuming that exactly 2 cars turn right.\n",
    "            \n",
    "d. Create a set $D$ of all possible outcomes assuming that exactly 2 cars drive in the same direction.\n",
    "\n",
    "                          \n",
    "e. Write down the interpretation and give all possible outcomes for the sets denoted by:\n",
    " - I. $D'$ \n",
    " - II. $C \\cap D$, \n",
    " - III. $C \\cup D$. "
   ]
  },
  {
   "cell_type": "markdown",
   "metadata": {},
   "source": [
    "## Optional Exercise: European Countries\n",
    "\n",
    "Use set operations to determine which European countries are not in the European Union. You just might have to clean the data first with pandas."
   ]
  },
  {
   "cell_type": "code",
   "execution_count": 36,
   "metadata": {},
   "outputs": [],
   "source": [
    "import pandas as pd\n",
    "\n",
    "#Load Europe and EU\n",
    "europe = pd.read_excel('Europe_and_EU.xlsx', sheet_name = 'Europe') \n",
    "eu = pd.read_excel('Europe_and_EU.xlsx', sheet_name = 'EU')\n",
    "\n",
    "#Use pandas to remove any whitespace from names"
   ]
  },
  {
   "cell_type": "code",
   "execution_count": 46,
   "metadata": {},
   "outputs": [
    {
     "data": {
      "text/html": [
       "<div>\n",
       "<style scoped>\n",
       "    .dataframe tbody tr th:only-of-type {\n",
       "        vertical-align: middle;\n",
       "    }\n",
       "\n",
       "    .dataframe tbody tr th {\n",
       "        vertical-align: top;\n",
       "    }\n",
       "\n",
       "    .dataframe thead th {\n",
       "        text-align: right;\n",
       "    }\n",
       "</style>\n",
       "<table border=\"1\" class=\"dataframe\">\n",
       "  <thead>\n",
       "    <tr style=\"text-align: right;\">\n",
       "      <th></th>\n",
       "      <th>Rank</th>\n",
       "      <th>Country</th>\n",
       "      <th>2017 population</th>\n",
       "      <th>% of pop.</th>\n",
       "      <th>Average relative annual growth</th>\n",
       "      <th>Average absolute annual growth</th>\n",
       "      <th>Official figure</th>\n",
       "      <th>Date of last figure</th>\n",
       "      <th>Source</th>\n",
       "    </tr>\n",
       "  </thead>\n",
       "  <tbody>\n",
       "    <tr>\n",
       "      <th>0</th>\n",
       "      <td>1</td>\n",
       "      <td>Germany</td>\n",
       "      <td>82800000</td>\n",
       "      <td>16.18</td>\n",
       "      <td>0.76</td>\n",
       "      <td>628876</td>\n",
       "      <td>82576900</td>\n",
       "      <td>2017-03-31</td>\n",
       "      <td>Official estimate</td>\n",
       "    </tr>\n",
       "    <tr>\n",
       "      <th>1</th>\n",
       "      <td>2</td>\n",
       "      <td>France</td>\n",
       "      <td>67210459</td>\n",
       "      <td>13.10</td>\n",
       "      <td>0.40</td>\n",
       "      <td>265557</td>\n",
       "      <td>67174000</td>\n",
       "      <td>2018-01-01</td>\n",
       "      <td>Monthly official estimate</td>\n",
       "    </tr>\n",
       "    <tr>\n",
       "      <th>2</th>\n",
       "      <td>3</td>\n",
       "      <td>United Kingdom</td>\n",
       "      <td>65808573</td>\n",
       "      <td>12.86</td>\n",
       "      <td>0.65</td>\n",
       "      <td>428793</td>\n",
       "      <td>65648100</td>\n",
       "      <td>2017-06-30</td>\n",
       "      <td>Official estimate</td>\n",
       "    </tr>\n",
       "  </tbody>\n",
       "</table>\n",
       "</div>"
      ],
      "text/plain": [
       "   Rank         Country  2017 population  % of pop.  \\\n",
       "0     1         Germany         82800000      16.18   \n",
       "1     2          France         67210459      13.10   \n",
       "2     3  United Kingdom         65808573      12.86   \n",
       "\n",
       "   Average relative annual growth  Average absolute annual growth  \\\n",
       "0                            0.76                          628876   \n",
       "1                            0.40                          265557   \n",
       "2                            0.65                          428793   \n",
       "\n",
       "   Official figure Date of last figure                     Source  \n",
       "0         82576900          2017-03-31          Official estimate  \n",
       "1         67174000          2018-01-01  Monthly official estimate  \n",
       "2         65648100          2017-06-30          Official estimate  "
      ]
     },
     "execution_count": 46,
     "metadata": {},
     "output_type": "execute_result"
    }
   ],
   "source": [
    "europe.head(3) #preview dataframe\n",
    "eu.head(3)"
   ]
  },
  {
   "cell_type": "code",
   "execution_count": 39,
   "metadata": {},
   "outputs": [
    {
     "data": {
      "text/plain": [
       "array([' Germany ', 'France', 'United Kingdom', ' Italy ', ' Spain ',\n",
       "       ' Poland ', ' Romania ', ' Netherlands ', ' Belgium ', ' Greece ',\n",
       "       ' Czech Republic ', ' Portugal ', ' Sweden ', ' Hungary ',\n",
       "       ' Austria ', ' Bulgaria ', ' Denmark ', ' Finland ', ' Slovakia ',\n",
       "       ' Ireland ', ' Croatia ', ' Lithuania ', ' Slovenia ', ' Latvia ',\n",
       "       ' Estonia ', ' Cyprus ', ' Luxembourg ', ' Malta '], dtype=object)"
      ]
     },
     "execution_count": 39,
     "metadata": {},
     "output_type": "execute_result"
    }
   ],
   "source": [
    "# Your code comes here\n",
    "eu.Country.unique()"
   ]
  },
  {
   "cell_type": "code",
   "execution_count": 43,
   "metadata": {},
   "outputs": [
    {
     "data": {
      "text/plain": [
       "array(['Germany', 'France', 'United Kingdom', 'Italy', 'Spain', 'Poland',\n",
       "       'Romania', 'Netherlands', 'Belgium', 'Greece', 'Czech Republic',\n",
       "       'Portugal', 'Sweden', 'Hungary', 'Austria', 'Bulgaria', 'Denmark',\n",
       "       'Finland', 'Slovakia', 'Ireland', 'Croatia', 'Lithuania',\n",
       "       'Slovenia', 'Latvia', 'Estonia', 'Cyprus', 'Luxembourg', 'Malta'],\n",
       "      dtype=object)"
      ]
     },
     "execution_count": 43,
     "metadata": {},
     "output_type": "execute_result"
    }
   ],
   "source": [
    "eu['Country'] = [i.strip() for i in eu.Country]\n",
    "eu.Country.unique()"
   ]
  },
  {
   "cell_type": "code",
   "execution_count": 47,
   "metadata": {},
   "outputs": [
    {
     "data": {
      "text/plain": [
       "array([' Russia', ' Germany ', ' Turkey ', 'France', 'United Kingdom',\n",
       "       ' Italy ', ' Spain ', ' Ukraine', ' Poland ', ' Romania ',\n",
       "       ' Netherlands ', ' Belgium ', ' Greece ', ' Czech Republic ',\n",
       "       ' Portugal ', ' Sweden ', ' Hungary ', ' Azerbaijan ', ' Belarus ',\n",
       "       ' Serbia ', ' Austria ', '  Switzerland ', ' Bulgaria ',\n",
       "       ' Denmark ', ' Finland ', ' Slovakia ', ' Norway ', ' Ireland ',\n",
       "       ' Croatia ', ' Bosnia and Herzegovina ', ' Georgia ', ' Moldova ',\n",
       "       ' Armenia ', ' Lithuania ', ' Albania ', ' Macedonia ',\n",
       "       ' Slovenia ', ' Latvia ', ' Kosovo ', ' Estonia ', ' Cyprus ',\n",
       "       ' Montenegro ', ' Luxembourg ', ' Malta ', ' Iceland ',\n",
       "       ' Jersey (UK) ', ' Isle of Man (UK) ', ' Andorra ',\n",
       "       ' Guernsey (UK) ', ' Faroe Islands (Denmark) ', ' Liechtenstein ',\n",
       "       ' Monaco ', ' Gibraltar (UK)', ' San Marino ',\n",
       "       ' Åland Islands (Finland) ', ' Svalbard (Norway) ',\n",
       "       '  Vatican City '], dtype=object)"
      ]
     },
     "execution_count": 47,
     "metadata": {},
     "output_type": "execute_result"
    }
   ],
   "source": [
    "europe.Country.unique()"
   ]
  },
  {
   "cell_type": "code",
   "execution_count": 48,
   "metadata": {},
   "outputs": [
    {
     "data": {
      "text/plain": [
       "array(['Russia', 'Germany', 'Turkey', 'France', 'United Kingdom', 'Italy',\n",
       "       'Spain', 'Ukraine', 'Poland', 'Romania', 'Netherlands', 'Belgium',\n",
       "       'Greece', 'Czech Republic', 'Portugal', 'Sweden', 'Hungary',\n",
       "       'Azerbaijan', 'Belarus', 'Serbia', 'Austria', 'Switzerland',\n",
       "       'Bulgaria', 'Denmark', 'Finland', 'Slovakia', 'Norway', 'Ireland',\n",
       "       'Croatia', 'Bosnia and Herzegovina', 'Georgia', 'Moldova',\n",
       "       'Armenia', 'Lithuania', 'Albania', 'Macedonia', 'Slovenia',\n",
       "       'Latvia', 'Kosovo', 'Estonia', 'Cyprus', 'Montenegro',\n",
       "       'Luxembourg', 'Malta', 'Iceland', 'Jersey (UK)',\n",
       "       'Isle of Man (UK)', 'Andorra', 'Guernsey (UK)',\n",
       "       'Faroe Islands (Denmark)', 'Liechtenstein', 'Monaco',\n",
       "       'Gibraltar (UK)', 'San Marino', 'Åland Islands (Finland)',\n",
       "       'Svalbard (Norway)', 'Vatican City'], dtype=object)"
      ]
     },
     "execution_count": 48,
     "metadata": {},
     "output_type": "execute_result"
    }
   ],
   "source": [
    "europe['Country'] = [i.strip() for i in europe.Country]\n",
    "europe.Country.unique()"
   ]
  },
  {
   "cell_type": "code",
   "execution_count": 66,
   "metadata": {},
   "outputs": [
    {
     "name": "stdout",
     "output_type": "stream",
     "text": [
      "{'Faroe Islands (Denmark)', 'Montenegro', 'Moldova', 'Turkey', 'Bosnia and Herzegovina', 'Albania', 'Belarus', 'Kosovo', 'Georgia', 'Andorra', 'Jersey (UK)', 'Liechtenstein', 'Monaco', 'Azerbaijan', 'Ukraine', 'Switzerland', 'Armenia', 'Gibraltar (UK)', 'San Marino', 'Norway', 'Vatican City', 'Iceland', 'Macedonia', 'Isle of Man (UK)', 'Guernsey (UK)', 'Russia', 'Svalbard (Norway)', 'Serbia', 'Åland Islands (Finland)'}\n"
     ]
    }
   ],
   "source": [
    "Eur = set(list(europe.Country.unique()))\n",
    "EU = set(list(eu.Country.unique()))\n",
    "\n",
    "NonEU = Eur.difference(EU)\n",
    "\n",
    "print(NonEU)"
   ]
  },
  {
   "cell_type": "markdown",
   "metadata": {},
   "source": [
    "## Summary"
   ]
  },
  {
   "cell_type": "markdown",
   "metadata": {},
   "source": [
    "In this lab, you practiced your knowledge on sets, such as common set operations, the use of Venn Diagrams, the inclusion exclusion principle, and how to use sets in Python! "
   ]
  }
 ],
 "metadata": {
  "kernelspec": {
   "display_name": "Python 3",
   "language": "python",
   "name": "python3"
  },
  "language_info": {
   "codemirror_mode": {
    "name": "ipython",
    "version": 3
   },
   "file_extension": ".py",
   "mimetype": "text/x-python",
   "name": "python",
   "nbconvert_exporter": "python",
   "pygments_lexer": "ipython3",
   "version": "3.6.6"
  }
 },
 "nbformat": 4,
 "nbformat_minor": 2
}
